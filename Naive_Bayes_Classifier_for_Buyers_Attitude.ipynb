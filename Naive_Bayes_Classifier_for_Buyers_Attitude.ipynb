{
  "nbformat": 4,
  "nbformat_minor": 0,
  "metadata": {
    "colab": {
      "provenance": [],
      "authorship_tag": "ABX9TyM3wWLrzQZDfqkB2Pf/HrvB",
      "include_colab_link": true
    },
    "kernelspec": {
      "name": "python3",
      "display_name": "Python 3"
    },
    "language_info": {
      "name": "python"
    }
  },
  "cells": [
    {
      "cell_type": "markdown",
      "metadata": {
        "id": "view-in-github",
        "colab_type": "text"
      },
      "source": [
        "<a href=\"https://colab.research.google.com/github/kamilakhtar015/Machine-Learning---Concepts-GSU-/blob/main/Naive_Bayes_Classifier_for_Buyers_Attitude.ipynb\" target=\"_parent\"><img src=\"https://colab.research.google.com/assets/colab-badge.svg\" alt=\"Open In Colab\"/></a>"
      ]
    },
    {
      "cell_type": "code",
      "execution_count": null,
      "metadata": {
        "colab": {
          "base_uri": "https://localhost:8080/"
        },
        "id": "Yf3hJQLTrF02",
        "outputId": "cea60707-ff1c-4f99-fa38-1526b7afd063"
      },
      "outputs": [
        {
          "output_type": "stream",
          "name": "stdout",
          "text": [
            "This is the Extra Assignment of ML Course\n"
          ]
        }
      ],
      "source": [
        "print(\"This is the Extra Assignment of ML Course\")"
      ]
    },
    {
      "cell_type": "code",
      "source": [
        "import pandas as pd\n",
        "import re\n",
        "import nltk\n",
        "from nltk.corpus import stopwords\n",
        "\n",
        "import nltk\n",
        "nltk.download('stopwords')"
      ],
      "metadata": {
        "colab": {
          "base_uri": "https://localhost:8080/"
        },
        "id": "6_sC9ZrMMdgg",
        "outputId": "6d710564-076c-4419-a930-0da65f454e19"
      },
      "execution_count": null,
      "outputs": [
        {
          "output_type": "stream",
          "name": "stderr",
          "text": [
            "[nltk_data] Downloading package stopwords to /root/nltk_data...\n",
            "[nltk_data]   Unzipping corpora/stopwords.zip.\n"
          ]
        },
        {
          "output_type": "execute_result",
          "data": {
            "text/plain": [
              "True"
            ]
          },
          "metadata": {},
          "execution_count": 2
        }
      ]
    },
    {
      "cell_type": "markdown",
      "source": [
        "# Preprocessing\n",
        "\n",
        "1. Convert text to lowercase\n",
        "\n",
        "2. Remove punctuation, special characters, numbers\n",
        "\n",
        "3. Tokenize text (split into words)\n",
        "\n",
        "4. Remove stopwords like “the”, “is”, “and”"
      ],
      "metadata": {
        "id": "B0_LebtiMyjU"
      }
    },
    {
      "cell_type": "code",
      "source": [
        "reviews = pd.read_csv(\"/content/amazon_reviews.csv\")\n",
        "\n",
        "print(reviews.shape)\n",
        "reviews.head()"
      ],
      "metadata": {
        "colab": {
          "base_uri": "https://localhost:8080/",
          "height": 224
        },
        "id": "0GUW3fYjNylO",
        "outputId": "986b8e86-fc8c-428e-b155-f18eab59d053"
      },
      "execution_count": null,
      "outputs": [
        {
          "output_type": "stream",
          "name": "stdout",
          "text": [
            "(101, 2)\n"
          ]
        },
        {
          "output_type": "execute_result",
          "data": {
            "text/plain": [
              "                                              Review     Label\n",
              "0  This iOttie CD slot mount is exactly what I ne...  Positive\n",
              "1  Easy to install, easy to manipulate, decent ma...  Positive\n",
              "2  This is a GREAT product! I put this off to the...  Positive\n",
              "3  I rarely write reviews but this product is soo...  Positive\n",
              "4  Bought the first gen of this back in 2019. It ...  Positive"
            ],
            "text/html": [
              "\n",
              "  <div id=\"df-4b0e3a5d-ff90-4c2b-96db-577d491a449c\" class=\"colab-df-container\">\n",
              "    <div>\n",
              "<style scoped>\n",
              "    .dataframe tbody tr th:only-of-type {\n",
              "        vertical-align: middle;\n",
              "    }\n",
              "\n",
              "    .dataframe tbody tr th {\n",
              "        vertical-align: top;\n",
              "    }\n",
              "\n",
              "    .dataframe thead th {\n",
              "        text-align: right;\n",
              "    }\n",
              "</style>\n",
              "<table border=\"1\" class=\"dataframe\">\n",
              "  <thead>\n",
              "    <tr style=\"text-align: right;\">\n",
              "      <th></th>\n",
              "      <th>Review</th>\n",
              "      <th>Label</th>\n",
              "    </tr>\n",
              "  </thead>\n",
              "  <tbody>\n",
              "    <tr>\n",
              "      <th>0</th>\n",
              "      <td>This iOttie CD slot mount is exactly what I ne...</td>\n",
              "      <td>Positive</td>\n",
              "    </tr>\n",
              "    <tr>\n",
              "      <th>1</th>\n",
              "      <td>Easy to install, easy to manipulate, decent ma...</td>\n",
              "      <td>Positive</td>\n",
              "    </tr>\n",
              "    <tr>\n",
              "      <th>2</th>\n",
              "      <td>This is a GREAT product! I put this off to the...</td>\n",
              "      <td>Positive</td>\n",
              "    </tr>\n",
              "    <tr>\n",
              "      <th>3</th>\n",
              "      <td>I rarely write reviews but this product is soo...</td>\n",
              "      <td>Positive</td>\n",
              "    </tr>\n",
              "    <tr>\n",
              "      <th>4</th>\n",
              "      <td>Bought the first gen of this back in 2019. It ...</td>\n",
              "      <td>Positive</td>\n",
              "    </tr>\n",
              "  </tbody>\n",
              "</table>\n",
              "</div>\n",
              "    <div class=\"colab-df-buttons\">\n",
              "\n",
              "  <div class=\"colab-df-container\">\n",
              "    <button class=\"colab-df-convert\" onclick=\"convertToInteractive('df-4b0e3a5d-ff90-4c2b-96db-577d491a449c')\"\n",
              "            title=\"Convert this dataframe to an interactive table.\"\n",
              "            style=\"display:none;\">\n",
              "\n",
              "  <svg xmlns=\"http://www.w3.org/2000/svg\" height=\"24px\" viewBox=\"0 -960 960 960\">\n",
              "    <path d=\"M120-120v-720h720v720H120Zm60-500h600v-160H180v160Zm220 220h160v-160H400v160Zm0 220h160v-160H400v160ZM180-400h160v-160H180v160Zm440 0h160v-160H620v160ZM180-180h160v-160H180v160Zm440 0h160v-160H620v160Z\"/>\n",
              "  </svg>\n",
              "    </button>\n",
              "\n",
              "  <style>\n",
              "    .colab-df-container {\n",
              "      display:flex;\n",
              "      gap: 12px;\n",
              "    }\n",
              "\n",
              "    .colab-df-convert {\n",
              "      background-color: #E8F0FE;\n",
              "      border: none;\n",
              "      border-radius: 50%;\n",
              "      cursor: pointer;\n",
              "      display: none;\n",
              "      fill: #1967D2;\n",
              "      height: 32px;\n",
              "      padding: 0 0 0 0;\n",
              "      width: 32px;\n",
              "    }\n",
              "\n",
              "    .colab-df-convert:hover {\n",
              "      background-color: #E2EBFA;\n",
              "      box-shadow: 0px 1px 2px rgba(60, 64, 67, 0.3), 0px 1px 3px 1px rgba(60, 64, 67, 0.15);\n",
              "      fill: #174EA6;\n",
              "    }\n",
              "\n",
              "    .colab-df-buttons div {\n",
              "      margin-bottom: 4px;\n",
              "    }\n",
              "\n",
              "    [theme=dark] .colab-df-convert {\n",
              "      background-color: #3B4455;\n",
              "      fill: #D2E3FC;\n",
              "    }\n",
              "\n",
              "    [theme=dark] .colab-df-convert:hover {\n",
              "      background-color: #434B5C;\n",
              "      box-shadow: 0px 1px 3px 1px rgba(0, 0, 0, 0.15);\n",
              "      filter: drop-shadow(0px 1px 2px rgba(0, 0, 0, 0.3));\n",
              "      fill: #FFFFFF;\n",
              "    }\n",
              "  </style>\n",
              "\n",
              "    <script>\n",
              "      const buttonEl =\n",
              "        document.querySelector('#df-4b0e3a5d-ff90-4c2b-96db-577d491a449c button.colab-df-convert');\n",
              "      buttonEl.style.display =\n",
              "        google.colab.kernel.accessAllowed ? 'block' : 'none';\n",
              "\n",
              "      async function convertToInteractive(key) {\n",
              "        const element = document.querySelector('#df-4b0e3a5d-ff90-4c2b-96db-577d491a449c');\n",
              "        const dataTable =\n",
              "          await google.colab.kernel.invokeFunction('convertToInteractive',\n",
              "                                                    [key], {});\n",
              "        if (!dataTable) return;\n",
              "\n",
              "        const docLinkHtml = 'Like what you see? Visit the ' +\n",
              "          '<a target=\"_blank\" href=https://colab.research.google.com/notebooks/data_table.ipynb>data table notebook</a>'\n",
              "          + ' to learn more about interactive tables.';\n",
              "        element.innerHTML = '';\n",
              "        dataTable['output_type'] = 'display_data';\n",
              "        await google.colab.output.renderOutput(dataTable, element);\n",
              "        const docLink = document.createElement('div');\n",
              "        docLink.innerHTML = docLinkHtml;\n",
              "        element.appendChild(docLink);\n",
              "      }\n",
              "    </script>\n",
              "  </div>\n",
              "\n",
              "\n",
              "    <div id=\"df-34bdaa64-e962-4816-a992-ca15a1725f74\">\n",
              "      <button class=\"colab-df-quickchart\" onclick=\"quickchart('df-34bdaa64-e962-4816-a992-ca15a1725f74')\"\n",
              "                title=\"Suggest charts\"\n",
              "                style=\"display:none;\">\n",
              "\n",
              "<svg xmlns=\"http://www.w3.org/2000/svg\" height=\"24px\"viewBox=\"0 0 24 24\"\n",
              "     width=\"24px\">\n",
              "    <g>\n",
              "        <path d=\"M19 3H5c-1.1 0-2 .9-2 2v14c0 1.1.9 2 2 2h14c1.1 0 2-.9 2-2V5c0-1.1-.9-2-2-2zM9 17H7v-7h2v7zm4 0h-2V7h2v10zm4 0h-2v-4h2v4z\"/>\n",
              "    </g>\n",
              "</svg>\n",
              "      </button>\n",
              "\n",
              "<style>\n",
              "  .colab-df-quickchart {\n",
              "      --bg-color: #E8F0FE;\n",
              "      --fill-color: #1967D2;\n",
              "      --hover-bg-color: #E2EBFA;\n",
              "      --hover-fill-color: #174EA6;\n",
              "      --disabled-fill-color: #AAA;\n",
              "      --disabled-bg-color: #DDD;\n",
              "  }\n",
              "\n",
              "  [theme=dark] .colab-df-quickchart {\n",
              "      --bg-color: #3B4455;\n",
              "      --fill-color: #D2E3FC;\n",
              "      --hover-bg-color: #434B5C;\n",
              "      --hover-fill-color: #FFFFFF;\n",
              "      --disabled-bg-color: #3B4455;\n",
              "      --disabled-fill-color: #666;\n",
              "  }\n",
              "\n",
              "  .colab-df-quickchart {\n",
              "    background-color: var(--bg-color);\n",
              "    border: none;\n",
              "    border-radius: 50%;\n",
              "    cursor: pointer;\n",
              "    display: none;\n",
              "    fill: var(--fill-color);\n",
              "    height: 32px;\n",
              "    padding: 0;\n",
              "    width: 32px;\n",
              "  }\n",
              "\n",
              "  .colab-df-quickchart:hover {\n",
              "    background-color: var(--hover-bg-color);\n",
              "    box-shadow: 0 1px 2px rgba(60, 64, 67, 0.3), 0 1px 3px 1px rgba(60, 64, 67, 0.15);\n",
              "    fill: var(--button-hover-fill-color);\n",
              "  }\n",
              "\n",
              "  .colab-df-quickchart-complete:disabled,\n",
              "  .colab-df-quickchart-complete:disabled:hover {\n",
              "    background-color: var(--disabled-bg-color);\n",
              "    fill: var(--disabled-fill-color);\n",
              "    box-shadow: none;\n",
              "  }\n",
              "\n",
              "  .colab-df-spinner {\n",
              "    border: 2px solid var(--fill-color);\n",
              "    border-color: transparent;\n",
              "    border-bottom-color: var(--fill-color);\n",
              "    animation:\n",
              "      spin 1s steps(1) infinite;\n",
              "  }\n",
              "\n",
              "  @keyframes spin {\n",
              "    0% {\n",
              "      border-color: transparent;\n",
              "      border-bottom-color: var(--fill-color);\n",
              "      border-left-color: var(--fill-color);\n",
              "    }\n",
              "    20% {\n",
              "      border-color: transparent;\n",
              "      border-left-color: var(--fill-color);\n",
              "      border-top-color: var(--fill-color);\n",
              "    }\n",
              "    30% {\n",
              "      border-color: transparent;\n",
              "      border-left-color: var(--fill-color);\n",
              "      border-top-color: var(--fill-color);\n",
              "      border-right-color: var(--fill-color);\n",
              "    }\n",
              "    40% {\n",
              "      border-color: transparent;\n",
              "      border-right-color: var(--fill-color);\n",
              "      border-top-color: var(--fill-color);\n",
              "    }\n",
              "    60% {\n",
              "      border-color: transparent;\n",
              "      border-right-color: var(--fill-color);\n",
              "    }\n",
              "    80% {\n",
              "      border-color: transparent;\n",
              "      border-right-color: var(--fill-color);\n",
              "      border-bottom-color: var(--fill-color);\n",
              "    }\n",
              "    90% {\n",
              "      border-color: transparent;\n",
              "      border-bottom-color: var(--fill-color);\n",
              "    }\n",
              "  }\n",
              "</style>\n",
              "\n",
              "      <script>\n",
              "        async function quickchart(key) {\n",
              "          const quickchartButtonEl =\n",
              "            document.querySelector('#' + key + ' button');\n",
              "          quickchartButtonEl.disabled = true;  // To prevent multiple clicks.\n",
              "          quickchartButtonEl.classList.add('colab-df-spinner');\n",
              "          try {\n",
              "            const charts = await google.colab.kernel.invokeFunction(\n",
              "                'suggestCharts', [key], {});\n",
              "          } catch (error) {\n",
              "            console.error('Error during call to suggestCharts:', error);\n",
              "          }\n",
              "          quickchartButtonEl.classList.remove('colab-df-spinner');\n",
              "          quickchartButtonEl.classList.add('colab-df-quickchart-complete');\n",
              "        }\n",
              "        (() => {\n",
              "          let quickchartButtonEl =\n",
              "            document.querySelector('#df-34bdaa64-e962-4816-a992-ca15a1725f74 button');\n",
              "          quickchartButtonEl.style.display =\n",
              "            google.colab.kernel.accessAllowed ? 'block' : 'none';\n",
              "        })();\n",
              "      </script>\n",
              "    </div>\n",
              "\n",
              "    </div>\n",
              "  </div>\n"
            ],
            "application/vnd.google.colaboratory.intrinsic+json": {
              "type": "dataframe",
              "variable_name": "reviews",
              "summary": "{\n  \"name\": \"reviews\",\n  \"rows\": 101,\n  \"fields\": [\n    {\n      \"column\": \"Review\",\n      \"properties\": {\n        \"dtype\": \"string\",\n        \"num_unique_values\": 100,\n        \"samples\": [\n          \"The product works great and I would have gladly given it five stars until I just wanted to reposition it on a different spot. I can't remove it because it is melted to my windshield. To be more precise, I could remove it but it would be destroyed. I live in the central Midwest, so our climate is variable, but shouldn't fall outside of testing range during product development. This is wild.\",\n          \"I really like this item, BUT I\\u2019ve only had it for roughly a little over month and holding arm is loose. It cannot even hold the phone up and more. If I manage to get it to hold, it falls back down with the first bump. This would have been a 5/5 but it\\u2019s really unfortunate It only lasted a month or so.\",\n          \"With the heat, it failed to stick and no longer works. Lasted a good couple of months but disappointed . Trashing\"\n        ],\n        \"semantic_type\": \"\",\n        \"description\": \"\"\n      }\n    },\n    {\n      \"column\": \"Label\",\n      \"properties\": {\n        \"dtype\": \"category\",\n        \"num_unique_values\": 2,\n        \"samples\": [\n          \"Negative\",\n          \"Positive\"\n        ],\n        \"semantic_type\": \"\",\n        \"description\": \"\"\n      }\n    }\n  ]\n}"
            }
          },
          "metadata": {},
          "execution_count": 17
        }
      ]
    },
    {
      "cell_type": "code",
      "source": [
        "def preprocess_text(text):\n",
        "  # Changing to lowercase\n",
        "  text = str(text).lower()\n",
        "\n",
        "  # Removing punctuation, special charachters, numbers\n",
        "  text = re.sub(r'[^a-z\\s]', '', text)\n",
        "\n",
        "  # Tokenize\n",
        "  words = text.split()\n",
        "\n",
        "  # Remove stopwords\n",
        "  stop_words = set(stopwords.words('english'))\n",
        "  words = [word for word in words if word not in stop_words]\n",
        "\n",
        "  return ' '.join(words)"
      ],
      "metadata": {
        "id": "hu5NQf2nM5NC"
      },
      "execution_count": null,
      "outputs": []
    },
    {
      "cell_type": "code",
      "source": [
        "reviews[\"Tokens\"] = reviews[\"Review\"].apply(preprocess_text)"
      ],
      "metadata": {
        "id": "uD2TepPoNfb_"
      },
      "execution_count": null,
      "outputs": []
    },
    {
      "cell_type": "code",
      "source": [
        "reviews.head()"
      ],
      "metadata": {
        "colab": {
          "base_uri": "https://localhost:8080/",
          "height": 206
        },
        "id": "d3AA3CGlN9gL",
        "outputId": "5023889b-1a49-4da2-ffb7-9e929f96a837"
      },
      "execution_count": null,
      "outputs": [
        {
          "output_type": "execute_result",
          "data": {
            "text/plain": [
              "                                              Review     Label  \\\n",
              "0  This iOttie CD slot mount is exactly what I ne...  Positive   \n",
              "1  Easy to install, easy to manipulate, decent ma...  Positive   \n",
              "2  This is a GREAT product! I put this off to the...  Positive   \n",
              "3  I rarely write reviews but this product is soo...  Positive   \n",
              "4  Bought the first gen of this back in 2019. It ...  Positive   \n",
              "\n",
              "                                              Tokens  \n",
              "0  iottie cd slot mount exactly needed installs e...  \n",
              "1  easy install easy manipulate decent manufactur...  \n",
              "2  great product put bottom corner driver side wi...  \n",
              "3  rarely write reviews product sooo good mounted...  \n",
              "4  bought first gen back fell maybe one time othe...  "
            ],
            "text/html": [
              "\n",
              "  <div id=\"df-8fa30d63-506a-42df-ba80-0f7c55da044f\" class=\"colab-df-container\">\n",
              "    <div>\n",
              "<style scoped>\n",
              "    .dataframe tbody tr th:only-of-type {\n",
              "        vertical-align: middle;\n",
              "    }\n",
              "\n",
              "    .dataframe tbody tr th {\n",
              "        vertical-align: top;\n",
              "    }\n",
              "\n",
              "    .dataframe thead th {\n",
              "        text-align: right;\n",
              "    }\n",
              "</style>\n",
              "<table border=\"1\" class=\"dataframe\">\n",
              "  <thead>\n",
              "    <tr style=\"text-align: right;\">\n",
              "      <th></th>\n",
              "      <th>Review</th>\n",
              "      <th>Label</th>\n",
              "      <th>Tokens</th>\n",
              "    </tr>\n",
              "  </thead>\n",
              "  <tbody>\n",
              "    <tr>\n",
              "      <th>0</th>\n",
              "      <td>This iOttie CD slot mount is exactly what I ne...</td>\n",
              "      <td>Positive</td>\n",
              "      <td>iottie cd slot mount exactly needed installs e...</td>\n",
              "    </tr>\n",
              "    <tr>\n",
              "      <th>1</th>\n",
              "      <td>Easy to install, easy to manipulate, decent ma...</td>\n",
              "      <td>Positive</td>\n",
              "      <td>easy install easy manipulate decent manufactur...</td>\n",
              "    </tr>\n",
              "    <tr>\n",
              "      <th>2</th>\n",
              "      <td>This is a GREAT product! I put this off to the...</td>\n",
              "      <td>Positive</td>\n",
              "      <td>great product put bottom corner driver side wi...</td>\n",
              "    </tr>\n",
              "    <tr>\n",
              "      <th>3</th>\n",
              "      <td>I rarely write reviews but this product is soo...</td>\n",
              "      <td>Positive</td>\n",
              "      <td>rarely write reviews product sooo good mounted...</td>\n",
              "    </tr>\n",
              "    <tr>\n",
              "      <th>4</th>\n",
              "      <td>Bought the first gen of this back in 2019. It ...</td>\n",
              "      <td>Positive</td>\n",
              "      <td>bought first gen back fell maybe one time othe...</td>\n",
              "    </tr>\n",
              "  </tbody>\n",
              "</table>\n",
              "</div>\n",
              "    <div class=\"colab-df-buttons\">\n",
              "\n",
              "  <div class=\"colab-df-container\">\n",
              "    <button class=\"colab-df-convert\" onclick=\"convertToInteractive('df-8fa30d63-506a-42df-ba80-0f7c55da044f')\"\n",
              "            title=\"Convert this dataframe to an interactive table.\"\n",
              "            style=\"display:none;\">\n",
              "\n",
              "  <svg xmlns=\"http://www.w3.org/2000/svg\" height=\"24px\" viewBox=\"0 -960 960 960\">\n",
              "    <path d=\"M120-120v-720h720v720H120Zm60-500h600v-160H180v160Zm220 220h160v-160H400v160Zm0 220h160v-160H400v160ZM180-400h160v-160H180v160Zm440 0h160v-160H620v160ZM180-180h160v-160H180v160Zm440 0h160v-160H620v160Z\"/>\n",
              "  </svg>\n",
              "    </button>\n",
              "\n",
              "  <style>\n",
              "    .colab-df-container {\n",
              "      display:flex;\n",
              "      gap: 12px;\n",
              "    }\n",
              "\n",
              "    .colab-df-convert {\n",
              "      background-color: #E8F0FE;\n",
              "      border: none;\n",
              "      border-radius: 50%;\n",
              "      cursor: pointer;\n",
              "      display: none;\n",
              "      fill: #1967D2;\n",
              "      height: 32px;\n",
              "      padding: 0 0 0 0;\n",
              "      width: 32px;\n",
              "    }\n",
              "\n",
              "    .colab-df-convert:hover {\n",
              "      background-color: #E2EBFA;\n",
              "      box-shadow: 0px 1px 2px rgba(60, 64, 67, 0.3), 0px 1px 3px 1px rgba(60, 64, 67, 0.15);\n",
              "      fill: #174EA6;\n",
              "    }\n",
              "\n",
              "    .colab-df-buttons div {\n",
              "      margin-bottom: 4px;\n",
              "    }\n",
              "\n",
              "    [theme=dark] .colab-df-convert {\n",
              "      background-color: #3B4455;\n",
              "      fill: #D2E3FC;\n",
              "    }\n",
              "\n",
              "    [theme=dark] .colab-df-convert:hover {\n",
              "      background-color: #434B5C;\n",
              "      box-shadow: 0px 1px 3px 1px rgba(0, 0, 0, 0.15);\n",
              "      filter: drop-shadow(0px 1px 2px rgba(0, 0, 0, 0.3));\n",
              "      fill: #FFFFFF;\n",
              "    }\n",
              "  </style>\n",
              "\n",
              "    <script>\n",
              "      const buttonEl =\n",
              "        document.querySelector('#df-8fa30d63-506a-42df-ba80-0f7c55da044f button.colab-df-convert');\n",
              "      buttonEl.style.display =\n",
              "        google.colab.kernel.accessAllowed ? 'block' : 'none';\n",
              "\n",
              "      async function convertToInteractive(key) {\n",
              "        const element = document.querySelector('#df-8fa30d63-506a-42df-ba80-0f7c55da044f');\n",
              "        const dataTable =\n",
              "          await google.colab.kernel.invokeFunction('convertToInteractive',\n",
              "                                                    [key], {});\n",
              "        if (!dataTable) return;\n",
              "\n",
              "        const docLinkHtml = 'Like what you see? Visit the ' +\n",
              "          '<a target=\"_blank\" href=https://colab.research.google.com/notebooks/data_table.ipynb>data table notebook</a>'\n",
              "          + ' to learn more about interactive tables.';\n",
              "        element.innerHTML = '';\n",
              "        dataTable['output_type'] = 'display_data';\n",
              "        await google.colab.output.renderOutput(dataTable, element);\n",
              "        const docLink = document.createElement('div');\n",
              "        docLink.innerHTML = docLinkHtml;\n",
              "        element.appendChild(docLink);\n",
              "      }\n",
              "    </script>\n",
              "  </div>\n",
              "\n",
              "\n",
              "    <div id=\"df-5b626a9d-659b-4b72-b0ba-91c16b271589\">\n",
              "      <button class=\"colab-df-quickchart\" onclick=\"quickchart('df-5b626a9d-659b-4b72-b0ba-91c16b271589')\"\n",
              "                title=\"Suggest charts\"\n",
              "                style=\"display:none;\">\n",
              "\n",
              "<svg xmlns=\"http://www.w3.org/2000/svg\" height=\"24px\"viewBox=\"0 0 24 24\"\n",
              "     width=\"24px\">\n",
              "    <g>\n",
              "        <path d=\"M19 3H5c-1.1 0-2 .9-2 2v14c0 1.1.9 2 2 2h14c1.1 0 2-.9 2-2V5c0-1.1-.9-2-2-2zM9 17H7v-7h2v7zm4 0h-2V7h2v10zm4 0h-2v-4h2v4z\"/>\n",
              "    </g>\n",
              "</svg>\n",
              "      </button>\n",
              "\n",
              "<style>\n",
              "  .colab-df-quickchart {\n",
              "      --bg-color: #E8F0FE;\n",
              "      --fill-color: #1967D2;\n",
              "      --hover-bg-color: #E2EBFA;\n",
              "      --hover-fill-color: #174EA6;\n",
              "      --disabled-fill-color: #AAA;\n",
              "      --disabled-bg-color: #DDD;\n",
              "  }\n",
              "\n",
              "  [theme=dark] .colab-df-quickchart {\n",
              "      --bg-color: #3B4455;\n",
              "      --fill-color: #D2E3FC;\n",
              "      --hover-bg-color: #434B5C;\n",
              "      --hover-fill-color: #FFFFFF;\n",
              "      --disabled-bg-color: #3B4455;\n",
              "      --disabled-fill-color: #666;\n",
              "  }\n",
              "\n",
              "  .colab-df-quickchart {\n",
              "    background-color: var(--bg-color);\n",
              "    border: none;\n",
              "    border-radius: 50%;\n",
              "    cursor: pointer;\n",
              "    display: none;\n",
              "    fill: var(--fill-color);\n",
              "    height: 32px;\n",
              "    padding: 0;\n",
              "    width: 32px;\n",
              "  }\n",
              "\n",
              "  .colab-df-quickchart:hover {\n",
              "    background-color: var(--hover-bg-color);\n",
              "    box-shadow: 0 1px 2px rgba(60, 64, 67, 0.3), 0 1px 3px 1px rgba(60, 64, 67, 0.15);\n",
              "    fill: var(--button-hover-fill-color);\n",
              "  }\n",
              "\n",
              "  .colab-df-quickchart-complete:disabled,\n",
              "  .colab-df-quickchart-complete:disabled:hover {\n",
              "    background-color: var(--disabled-bg-color);\n",
              "    fill: var(--disabled-fill-color);\n",
              "    box-shadow: none;\n",
              "  }\n",
              "\n",
              "  .colab-df-spinner {\n",
              "    border: 2px solid var(--fill-color);\n",
              "    border-color: transparent;\n",
              "    border-bottom-color: var(--fill-color);\n",
              "    animation:\n",
              "      spin 1s steps(1) infinite;\n",
              "  }\n",
              "\n",
              "  @keyframes spin {\n",
              "    0% {\n",
              "      border-color: transparent;\n",
              "      border-bottom-color: var(--fill-color);\n",
              "      border-left-color: var(--fill-color);\n",
              "    }\n",
              "    20% {\n",
              "      border-color: transparent;\n",
              "      border-left-color: var(--fill-color);\n",
              "      border-top-color: var(--fill-color);\n",
              "    }\n",
              "    30% {\n",
              "      border-color: transparent;\n",
              "      border-left-color: var(--fill-color);\n",
              "      border-top-color: var(--fill-color);\n",
              "      border-right-color: var(--fill-color);\n",
              "    }\n",
              "    40% {\n",
              "      border-color: transparent;\n",
              "      border-right-color: var(--fill-color);\n",
              "      border-top-color: var(--fill-color);\n",
              "    }\n",
              "    60% {\n",
              "      border-color: transparent;\n",
              "      border-right-color: var(--fill-color);\n",
              "    }\n",
              "    80% {\n",
              "      border-color: transparent;\n",
              "      border-right-color: var(--fill-color);\n",
              "      border-bottom-color: var(--fill-color);\n",
              "    }\n",
              "    90% {\n",
              "      border-color: transparent;\n",
              "      border-bottom-color: var(--fill-color);\n",
              "    }\n",
              "  }\n",
              "</style>\n",
              "\n",
              "      <script>\n",
              "        async function quickchart(key) {\n",
              "          const quickchartButtonEl =\n",
              "            document.querySelector('#' + key + ' button');\n",
              "          quickchartButtonEl.disabled = true;  // To prevent multiple clicks.\n",
              "          quickchartButtonEl.classList.add('colab-df-spinner');\n",
              "          try {\n",
              "            const charts = await google.colab.kernel.invokeFunction(\n",
              "                'suggestCharts', [key], {});\n",
              "          } catch (error) {\n",
              "            console.error('Error during call to suggestCharts:', error);\n",
              "          }\n",
              "          quickchartButtonEl.classList.remove('colab-df-spinner');\n",
              "          quickchartButtonEl.classList.add('colab-df-quickchart-complete');\n",
              "        }\n",
              "        (() => {\n",
              "          let quickchartButtonEl =\n",
              "            document.querySelector('#df-5b626a9d-659b-4b72-b0ba-91c16b271589 button');\n",
              "          quickchartButtonEl.style.display =\n",
              "            google.colab.kernel.accessAllowed ? 'block' : 'none';\n",
              "        })();\n",
              "      </script>\n",
              "    </div>\n",
              "\n",
              "    </div>\n",
              "  </div>\n"
            ],
            "application/vnd.google.colaboratory.intrinsic+json": {
              "type": "dataframe",
              "variable_name": "reviews",
              "summary": "{\n  \"name\": \"reviews\",\n  \"rows\": 101,\n  \"fields\": [\n    {\n      \"column\": \"Review\",\n      \"properties\": {\n        \"dtype\": \"string\",\n        \"num_unique_values\": 100,\n        \"samples\": [\n          \"The product works great and I would have gladly given it five stars until I just wanted to reposition it on a different spot. I can't remove it because it is melted to my windshield. To be more precise, I could remove it but it would be destroyed. I live in the central Midwest, so our climate is variable, but shouldn't fall outside of testing range during product development. This is wild.\",\n          \"I really like this item, BUT I\\u2019ve only had it for roughly a little over month and holding arm is loose. It cannot even hold the phone up and more. If I manage to get it to hold, it falls back down with the first bump. This would have been a 5/5 but it\\u2019s really unfortunate It only lasted a month or so.\",\n          \"With the heat, it failed to stick and no longer works. Lasted a good couple of months but disappointed . Trashing\"\n        ],\n        \"semantic_type\": \"\",\n        \"description\": \"\"\n      }\n    },\n    {\n      \"column\": \"Label\",\n      \"properties\": {\n        \"dtype\": \"category\",\n        \"num_unique_values\": 2,\n        \"samples\": [\n          \"Negative\",\n          \"Positive\"\n        ],\n        \"semantic_type\": \"\",\n        \"description\": \"\"\n      }\n    },\n    {\n      \"column\": \"Tokens\",\n      \"properties\": {\n        \"dtype\": \"string\",\n        \"num_unique_values\": 101,\n        \"samples\": [\n          \"didnt home phone high say use vent holding version pull vent fins still hang low mean tried stick base windshield flexed wrong place stuck well cant remove relocate better place\",\n          \"adhesive fails heat resistance f outside air temp however car gets significantly hotter tried additional adhesive included failed interior heat apparently samsung galaxy ultra heavy mount forced mount completely fall adhesive\"\n        ],\n        \"semantic_type\": \"\",\n        \"description\": \"\"\n      }\n    }\n  ]\n}"
            }
          },
          "metadata": {},
          "execution_count": 22
        }
      ]
    },
    {
      "cell_type": "markdown",
      "source": [
        "# Identify Keywords and Build Binary Feature Vectors"
      ],
      "metadata": {
        "id": "MjIWlAMaOwDv"
      }
    },
    {
      "cell_type": "markdown",
      "source": [
        "### Select Top 10 Keywords"
      ],
      "metadata": {
        "id": "35n7_E-yO31G"
      }
    },
    {
      "cell_type": "code",
      "source": [
        "from collections import Counter\n",
        "\n",
        "# Split by label\n",
        "positive_tokens = \" \".join(reviews[reviews[\"Label\"] == \"Positive\"][\"Tokens\"]).split()\n",
        "negative_tokens = \" \".join(reviews[reviews[\"Label\"] == \"Negative\"][\"Tokens\"]).split()\n",
        "\n",
        "# Get frequencies\n",
        "positive_freq = Counter(positive_tokens)\n",
        "negative_freq = Counter(negative_tokens)\n",
        "\n",
        "print(\"Positive top words:\", positive_freq.most_common(15))\n",
        "print(\"Negative top words:\", negative_freq.most_common(15))\n"
      ],
      "metadata": {
        "colab": {
          "base_uri": "https://localhost:8080/"
        },
        "id": "xmLhkrC0O4VA",
        "outputId": "630f818c-5b5e-4098-fcc8-9c81dec1918f"
      },
      "execution_count": null,
      "outputs": [
        {
          "output_type": "stream",
          "name": "stdout",
          "text": [
            "Positive top words: [('phone', 56), ('mount', 34), ('easy', 24), ('one', 24), ('car', 22), ('great', 16), ('suction', 15), ('use', 15), ('product', 12), ('time', 11), ('holder', 11), ('iottie', 10), ('cup', 10), ('place', 10), ('holds', 9)]\n",
            "Negative top words: [('phone', 62), ('mount', 42), ('one', 34), ('dash', 32), ('would', 27), ('product', 26), ('suction', 24), ('dashboard', 22), ('car', 21), ('cup', 19), ('get', 19), ('even', 19), ('cd', 19), ('well', 17), ('disc', 17)]\n"
          ]
        }
      ]
    },
    {
      "cell_type": "code",
      "source": [],
      "metadata": {
        "id": "IVqlc7CGO7Vm"
      },
      "execution_count": null,
      "outputs": []
    },
    {
      "cell_type": "markdown",
      "source": [
        "### Build Binary Feature Vectors Using Frequent Words"
      ],
      "metadata": {
        "id": "lL0foiW1QoZc"
      }
    },
    {
      "cell_type": "code",
      "source": [
        "selected_keywords = [\n",
        "    \"phone\", \"mount\", \"easy\", \"great\", \"use\",     # mostly positive\n",
        "    \"suction\", \"dash\", \"would\", \"holder\", \"get\"   # more common in negative\n",
        "]\n",
        "\n",
        "for kw in selected_keywords:\n",
        "  reviews[kw] = reviews[\"Tokens\"].apply(lambda x: 1 if kw in x else 0)\n",
        "\n",
        "\n",
        "print(reviews[selected_keywords + [\"Label\"]].head())"
      ],
      "metadata": {
        "colab": {
          "base_uri": "https://localhost:8080/"
        },
        "id": "kq7ZowJmQo1M",
        "outputId": "9898b5b0-9e38-4449-b607-81a17e00dac1"
      },
      "execution_count": null,
      "outputs": [
        {
          "output_type": "stream",
          "name": "stdout",
          "text": [
            "   phone  mount  easy  great  use  suction  dash  would  holder  get     Label\n",
            "0      1      1     1      1    0        0     1      0       0    0  Positive\n",
            "1      1      1     1      1    0        1     1      1       0    1  Positive\n",
            "2      0      0     0      1    0        0     1      0       0    0  Positive\n",
            "3      1      1     0      0    0        1     0      0       1    0  Positive\n",
            "4      1      0     0      0    1        0     0      0       0    0  Positive\n"
          ]
        }
      ]
    },
    {
      "cell_type": "code",
      "source": [],
      "metadata": {
        "id": "vBFilYVGQy3u"
      },
      "execution_count": null,
      "outputs": []
    },
    {
      "cell_type": "markdown",
      "source": [
        "# Implementing Naive Bayes Classifier"
      ],
      "metadata": {
        "id": "UHSH0ngQRTCM"
      }
    },
    {
      "cell_type": "markdown",
      "source": [
        "### Split into train and validation sets"
      ],
      "metadata": {
        "id": "JaB7EBOhRX68"
      }
    },
    {
      "cell_type": "code",
      "source": [
        "# Shuffle the dataset\n",
        "reviews_shuffled = reviews.sample(frac=1, random_state=42).reset_index(drop=True)\n",
        "\n",
        "print(reviews_shuffled.shape)\n",
        "print(reviews_shuffled.head())\n",
        "\n",
        "# split\n",
        "train_df = pd.concat([\n",
        "    reviews_shuffled[reviews_shuffled[\"Label\"] == \"Positive\"][:40],\n",
        "    reviews_shuffled[reviews_shuffled[\"Label\"] == \"Negative\"][:40]\n",
        "])\n",
        "\n",
        "test_df = pd.concat([\n",
        "    reviews_shuffled[reviews_shuffled[\"Label\"] == \"Positive\"][40:50],\n",
        "    reviews_shuffled[reviews_shuffled[\"Label\"] == \"Negative\"][40:50]\n",
        "])\n",
        "\n",
        "features = selected_keywords"
      ],
      "metadata": {
        "colab": {
          "base_uri": "https://localhost:8080/"
        },
        "id": "h5AYEq3vRWtu",
        "outputId": "bf0ee3b5-a3ae-4145-974b-78ea93f3e545"
      },
      "execution_count": null,
      "outputs": [
        {
          "output_type": "stream",
          "name": "stdout",
          "text": [
            "(101, 13)\n",
            "                                              Review     Label  \\\n",
            "0  They didnt home up the phone high. They say I ...  Negative   \n",
            "1  The adhesive fails in heat resistance. 60F out...  Negative   \n",
            "2  The dashboard adhesive would be better if it h...  Negative   \n",
            "3  This mount will not stay. It he longest the su...  Negative   \n",
            "4                     Works great.  Buying a second.  Positive   \n",
            "\n",
            "                                              Tokens  phone  mount  easy  \\\n",
            "0  didnt home phone high say use vent holding ver...      1      0     0   \n",
            "1  adhesive fails heat resistance f outside air t...      0      1     0   \n",
            "2  dashboard adhesive would better flexibility al...      1      1     0   \n",
            "3  mount stay longest suction held phone mount ma...      1      1     0   \n",
            "4                          works great buying second      0      0     0   \n",
            "\n",
            "   great  use  suction  dash  would  holder  get  \n",
            "0      0    1        0     0      0       0    0  \n",
            "1      0    0        0     0      0       0    1  \n",
            "2      0    1        1     1      1       0    1  \n",
            "3      0    0        1     0      0       0    0  \n",
            "4      1    0        0     0      0       0    0  \n"
          ]
        }
      ]
    },
    {
      "cell_type": "code",
      "source": [],
      "metadata": {
        "id": "XEkaBhLDUExN"
      },
      "execution_count": null,
      "outputs": []
    },
    {
      "cell_type": "markdown",
      "source": [
        "### Train Naïve Bayes"
      ],
      "metadata": {
        "id": "_c7PrUcUUfrO"
      }
    },
    {
      "cell_type": "code",
      "source": [
        "import numpy as np\n",
        "\n",
        "def train_naive_bayes(df, features):\n",
        "  classes = df[\"Label\"].unique()\n",
        "  priors = {}\n",
        "  likelihoods = {}\n",
        "\n",
        "  for c in classes:\n",
        "    class_df = df[df[\"Label\"] == c]\n",
        "    priors[c] = len(class_df) / len(df)\n",
        "    likelihoods[c] = {}\n",
        "\n",
        "    for feature in features:\n",
        "      # Laplace smoothing: add 1 to numerator, 2 to denominator\n",
        "      prob = (class_df[feature].sum() + 1) / (len(class_df) + 2)\n",
        "      likelihoods[c][feature] = prob\n",
        "\n",
        "  return priors, likelihoods\n"
      ],
      "metadata": {
        "id": "wRQtxTU0UgpE"
      },
      "execution_count": null,
      "outputs": []
    },
    {
      "cell_type": "code",
      "source": [],
      "metadata": {
        "id": "yEQbcL_QVWeM"
      },
      "execution_count": null,
      "outputs": []
    },
    {
      "cell_type": "markdown",
      "source": [
        "### Predict Using Naïve Bayes"
      ],
      "metadata": {
        "id": "_mpyblp8VbpE"
      }
    },
    {
      "cell_type": "code",
      "source": [
        "def predict_naive_bayes(row, priors, likelihoods, features):\n",
        "  posteriors = {}\n",
        "\n",
        "  for c in priors:\n",
        "    # use to avoid overflow\n",
        "    log_prob = np.log(priors[c])\n",
        "    for f in features:\n",
        "      if row[f] == 1:\n",
        "        log_prob += np.log(likelihoods[c][f])\n",
        "      else:\n",
        "        log_prob += np.log(1 - likelihoods[c][f])\n",
        "    posteriors[c] = log_prob\n",
        "\n",
        "  return max(posteriors, key=posteriors.get)"
      ],
      "metadata": {
        "id": "Ryr6NW6CVcKE"
      },
      "execution_count": null,
      "outputs": []
    },
    {
      "cell_type": "code",
      "source": [],
      "metadata": {
        "id": "E5UJsXOsV5VS"
      },
      "execution_count": null,
      "outputs": []
    },
    {
      "cell_type": "markdown",
      "source": [
        "### Evaluate Accuracy on Test Set"
      ],
      "metadata": {
        "id": "bpTPzE-RWADb"
      }
    },
    {
      "cell_type": "code",
      "source": [
        "# Train\n",
        "priors, likelihoods = train_naive_bayes(train_df, features)\n",
        "\n",
        "# Predict\n",
        "test_df[\"Predicted\"] = test_df.apply(lambda row: predict_naive_bayes(row, priors, likelihoods, features), axis=1)\n",
        "\n",
        "# Accuracy\n",
        "accuracy = (test_df[\"Predicted\"] == test_df[\"Label\"]).mean()\n",
        "print(\"Accuracy:\", accuracy)\n",
        "\n",
        "# Confusion matrix\n",
        "print(pd.crosstab(test_df[\"Label\"], test_df[\"Predicted\"], rownames=[\"Actual\"], colnames=[\"Predicted\"]))"
      ],
      "metadata": {
        "colab": {
          "base_uri": "https://localhost:8080/"
        },
        "id": "jb7mLWEWWAix",
        "outputId": "e3abdbc3-06e6-4347-a542-b0287fcfe299"
      },
      "execution_count": null,
      "outputs": [
        {
          "output_type": "stream",
          "name": "stdout",
          "text": [
            "Accuracy: 0.65\n",
            "Predicted  Negative  Positive\n",
            "Actual                       \n",
            "Negative          6         4\n",
            "Positive          3         7\n"
          ]
        }
      ]
    },
    {
      "cell_type": "code",
      "source": [
        "import seaborn as sns\n",
        "import matplotlib.pyplot as plt\n",
        "from sklearn.metrics import confusion_matrix\n",
        "\n",
        "# True vs Predicted labels\n",
        "y_true = test_df[\"Label\"]\n",
        "y_pred = test_df[\"Predicted\"]\n",
        "\n",
        "# Create confusion matrix\n",
        "cm = confusion_matrix(y_true, y_pred, labels=[\"Positive\", \"Negative\"])\n",
        "\n",
        "plt.figure(figsize=(6, 4))\n",
        "sns.heatmap(cm, annot=True, fmt=\"d\", cmap=\"Blues\",\n",
        "            xticklabels=[\"Positive\", \"Negative\"],\n",
        "            yticklabels=[\"Positive\", \"Negative\"])\n",
        "\n",
        "plt.xlabel(\"Predicted Label\")\n",
        "plt.ylabel(\"Actual Label\")\n",
        "plt.title(\"Confusion Matrix - Naïve Bayes Classifier\")\n",
        "plt.tight_layout()\n",
        "plt.show()\n"
      ],
      "metadata": {
        "colab": {
          "base_uri": "https://localhost:8080/",
          "height": 407
        },
        "id": "ndYiHzr6WDWI",
        "outputId": "e57d99f8-9775-4b25-f10c-9388853a03eb"
      },
      "execution_count": null,
      "outputs": [
        {
          "output_type": "display_data",
          "data": {
            "text/plain": [
              "<Figure size 600x400 with 2 Axes>"
            ],
            "image/png": "[encoded data removed]"
          },
          "metadata": {}
        }
      ]
    },
    {
      "cell_type": "code",
      "source": [],
      "metadata": {
        "id": "U4dbnQSsWyJS"
      },
      "execution_count": null,
      "outputs": []
    }
  ]
}